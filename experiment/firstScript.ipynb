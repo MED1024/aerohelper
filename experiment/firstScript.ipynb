{
 "cells": [
  {
   "cell_type": "code",
   "execution_count": 2,
   "metadata": {},
   "outputs": [],
   "source": [
    "import requests\n",
    "import json\n",
    "import pandas as pd\n",
    "import numpy as np\n",
    "import json\n"
   ]
  },
  {
   "cell_type": "code",
   "execution_count": 52,
   "metadata": {},
   "outputs": [],
   "source": [
    "result=1 if 4+3==7 else 4 if 5+2==7 else 8"
   ]
  },
  {
   "cell_type": "code",
   "execution_count": 53,
   "metadata": {},
   "outputs": [
    {
     "data": {
      "text/plain": [
       "1"
      ]
     },
     "execution_count": 53,
     "metadata": {},
     "output_type": "execute_result"
    }
   ],
   "source": [
    "result"
   ]
  },
  {
   "cell_type": "code",
   "execution_count": 3,
   "metadata": {},
   "outputs": [],
   "source": [
    "month='04'\n",
    "day='25'\n",
    "port='Шереметьево'"
   ]
  },
  {
   "cell_type": "code",
   "execution_count": 4,
   "metadata": {},
   "outputs": [
    {
     "data": {
      "text/plain": [
       "'SVO'"
      ]
     },
     "execution_count": 4,
     "metadata": {},
     "output_type": "execute_result"
    }
   ],
   "source": [
    "ports={'Домодедово':'DME','Шереметьево':'SVO','Внуково':'VKO'}\n",
    "port=ports[port]\n",
    "port"
   ]
  },
  {
   "cell_type": "code",
   "execution_count": 5,
   "metadata": {},
   "outputs": [],
   "source": [
    "link = \"https://api.rasp.yandex.net/v3.0/schedule/?apikey=94b5c4bf-9350-4f45-896d-ad5e244bc10e&system=iata&date=2020-\"+month+\"-\"+day+\"&transport_types=plane&station=\"+port\n",
    "\n",
    "response = requests.get(link) # отправляем запрос на получение кода страницы\n",
    "\n",
    "response.raise_for_status()\n",
    "d = response.json()  # do not create the result file until json is parsed\n",
    "\n",
    "#На случай \n",
    "\n",
    "with open('response.json', 'w', encoding='utf-8') as file:\n",
    "    json.dump(d, file, indent=2, ensure_ascii=False)"
   ]
  },
  {
   "cell_type": "code",
   "execution_count": 6,
   "metadata": {},
   "outputs": [],
   "source": [
    "schedule = pd.DataFrame(d['schedule'])\n",
    "#interval_segments = pd.DataFrame(d['interval_segments'])"
   ]
  },
  {
   "cell_type": "code",
   "execution_count": 7,
   "metadata": {},
   "outputs": [
    {
     "data": {
      "text/html": [
       "<div>\n",
       "<style scoped>\n",
       "    .dataframe tbody tr th:only-of-type {\n",
       "        vertical-align: middle;\n",
       "    }\n",
       "\n",
       "    .dataframe tbody tr th {\n",
       "        vertical-align: top;\n",
       "    }\n",
       "\n",
       "    .dataframe thead th {\n",
       "        text-align: right;\n",
       "    }\n",
       "</style>\n",
       "<table border=\"1\" class=\"dataframe\">\n",
       "  <thead>\n",
       "    <tr style=\"text-align: right;\">\n",
       "      <th></th>\n",
       "      <th>except_days</th>\n",
       "      <th>arrival</th>\n",
       "      <th>thread</th>\n",
       "      <th>is_fuzzy</th>\n",
       "      <th>days</th>\n",
       "      <th>stops</th>\n",
       "      <th>departure</th>\n",
       "      <th>terminal</th>\n",
       "      <th>platform</th>\n",
       "    </tr>\n",
       "  </thead>\n",
       "  <tbody>\n",
       "    <tr>\n",
       "      <th>0</th>\n",
       "      <td>None</td>\n",
       "      <td>None</td>\n",
       "      <td>{'uid': 'SU-1512_1_c26_547', 'title': 'Москва ...</td>\n",
       "      <td>False</td>\n",
       "      <td>ежедневно по 16.09</td>\n",
       "      <td></td>\n",
       "      <td>2020-04-25T01:35:00+03:00</td>\n",
       "      <td>None</td>\n",
       "      <td></td>\n",
       "    </tr>\n",
       "    <tr>\n",
       "      <th>1</th>\n",
       "      <td>None</td>\n",
       "      <td>None</td>\n",
       "      <td>{'uid': 'SU-1320_0_c26_547', 'title': 'Москва ...</td>\n",
       "      <td>False</td>\n",
       "      <td>25, 28, 30 апреля, 1, 2, 3, 4, 5, 6, 7, 8, 9, ...</td>\n",
       "      <td></td>\n",
       "      <td>2020-04-25T07:15:00+03:00</td>\n",
       "      <td>None</td>\n",
       "      <td></td>\n",
       "    </tr>\n",
       "    <tr>\n",
       "      <th>2</th>\n",
       "      <td>None</td>\n",
       "      <td>None</td>\n",
       "      <td>{'uid': 'SU-1644_1_c26_547', 'title': 'Москва ...</td>\n",
       "      <td>False</td>\n",
       "      <td>ежедневно с 24.04 по 21.09, кроме 28.04</td>\n",
       "      <td></td>\n",
       "      <td>2020-04-25T07:25:00+03:00</td>\n",
       "      <td>None</td>\n",
       "      <td></td>\n",
       "    </tr>\n",
       "    <tr>\n",
       "      <th>3</th>\n",
       "      <td>None</td>\n",
       "      <td>None</td>\n",
       "      <td>{'uid': 'SU-1296_1_c26_547', 'title': 'Москва ...</td>\n",
       "      <td>False</td>\n",
       "      <td>ежедневно с 20.04 по 17.09, кроме 21.04, 22.04...</td>\n",
       "      <td></td>\n",
       "      <td>2020-04-25T07:40:00+03:00</td>\n",
       "      <td>None</td>\n",
       "      <td></td>\n",
       "    </tr>\n",
       "    <tr>\n",
       "      <th>4</th>\n",
       "      <td>None</td>\n",
       "      <td>None</td>\n",
       "      <td>{'uid': 'SU-1052_2_c26_547', 'title': 'Москва ...</td>\n",
       "      <td>False</td>\n",
       "      <td>25, 26, 27, 30 апреля, 1, 2, 3, 4, 5, 6, 7, 8,...</td>\n",
       "      <td></td>\n",
       "      <td>2020-04-25T08:05:00+03:00</td>\n",
       "      <td>None</td>\n",
       "      <td></td>\n",
       "    </tr>\n",
       "    <tr>\n",
       "      <th>...</th>\n",
       "      <td>...</td>\n",
       "      <td>...</td>\n",
       "      <td>...</td>\n",
       "      <td>...</td>\n",
       "      <td>...</td>\n",
       "      <td>...</td>\n",
       "      <td>...</td>\n",
       "      <td>...</td>\n",
       "      <td>...</td>\n",
       "    </tr>\n",
       "    <tr>\n",
       "      <th>56</th>\n",
       "      <td>None</td>\n",
       "      <td>None</td>\n",
       "      <td>{'uid': 'SU-1406_0_c26_547', 'title': 'Москва ...</td>\n",
       "      <td>False</td>\n",
       "      <td>только 21, 22, 23, 24, 25 апреля</td>\n",
       "      <td></td>\n",
       "      <td>2020-04-25T21:30:00+03:00</td>\n",
       "      <td>None</td>\n",
       "      <td></td>\n",
       "    </tr>\n",
       "    <tr>\n",
       "      <th>57</th>\n",
       "      <td>None</td>\n",
       "      <td>None</td>\n",
       "      <td>{'uid': 'D2-154_0_c83_547', 'title': 'Москва —...</td>\n",
       "      <td>False</td>\n",
       "      <td>ежедневно с 20.04 по 17.09, кроме 26.04</td>\n",
       "      <td></td>\n",
       "      <td>2020-04-25T21:55:00+03:00</td>\n",
       "      <td>None</td>\n",
       "      <td></td>\n",
       "    </tr>\n",
       "    <tr>\n",
       "      <th>58</th>\n",
       "      <td>None</td>\n",
       "      <td>None</td>\n",
       "      <td>{'uid': 'SU-1646_2_c26_547', 'title': 'Москва ...</td>\n",
       "      <td>False</td>\n",
       "      <td>ежедневно с 23.04 по 20.09</td>\n",
       "      <td></td>\n",
       "      <td>2020-04-25T22:50:00+03:00</td>\n",
       "      <td>None</td>\n",
       "      <td></td>\n",
       "    </tr>\n",
       "    <tr>\n",
       "      <th>59</th>\n",
       "      <td>None</td>\n",
       "      <td>None</td>\n",
       "      <td>{'uid': 'SU-1382_1_c26_547', 'title': 'Москва ...</td>\n",
       "      <td>False</td>\n",
       "      <td>26 апреля, 1, 2, 3, 4, 5, 6, 7, 8, 9, 10, 11, ...</td>\n",
       "      <td></td>\n",
       "      <td>2020-04-26T01:00:00+03:00</td>\n",
       "      <td>None</td>\n",
       "      <td></td>\n",
       "    </tr>\n",
       "    <tr>\n",
       "      <th>60</th>\n",
       "      <td>None</td>\n",
       "      <td>None</td>\n",
       "      <td>{'uid': 'SU-1512_1_c26_547', 'title': 'Москва ...</td>\n",
       "      <td>False</td>\n",
       "      <td>ежедневно по 16.09</td>\n",
       "      <td></td>\n",
       "      <td>2020-04-26T01:35:00+03:00</td>\n",
       "      <td>None</td>\n",
       "      <td></td>\n",
       "    </tr>\n",
       "  </tbody>\n",
       "</table>\n",
       "<p>61 rows × 9 columns</p>\n",
       "</div>"
      ],
      "text/plain": [
       "   except_days arrival                                             thread  \\\n",
       "0         None    None  {'uid': 'SU-1512_1_c26_547', 'title': 'Москва ...   \n",
       "1         None    None  {'uid': 'SU-1320_0_c26_547', 'title': 'Москва ...   \n",
       "2         None    None  {'uid': 'SU-1644_1_c26_547', 'title': 'Москва ...   \n",
       "3         None    None  {'uid': 'SU-1296_1_c26_547', 'title': 'Москва ...   \n",
       "4         None    None  {'uid': 'SU-1052_2_c26_547', 'title': 'Москва ...   \n",
       "..         ...     ...                                                ...   \n",
       "56        None    None  {'uid': 'SU-1406_0_c26_547', 'title': 'Москва ...   \n",
       "57        None    None  {'uid': 'D2-154_0_c83_547', 'title': 'Москва —...   \n",
       "58        None    None  {'uid': 'SU-1646_2_c26_547', 'title': 'Москва ...   \n",
       "59        None    None  {'uid': 'SU-1382_1_c26_547', 'title': 'Москва ...   \n",
       "60        None    None  {'uid': 'SU-1512_1_c26_547', 'title': 'Москва ...   \n",
       "\n",
       "    is_fuzzy                                               days stops  \\\n",
       "0      False                                 ежедневно по 16.09         \n",
       "1      False  25, 28, 30 апреля, 1, 2, 3, 4, 5, 6, 7, 8, 9, ...         \n",
       "2      False            ежедневно с 24.04 по 21.09, кроме 28.04         \n",
       "3      False  ежедневно с 20.04 по 17.09, кроме 21.04, 22.04...         \n",
       "4      False  25, 26, 27, 30 апреля, 1, 2, 3, 4, 5, 6, 7, 8,...         \n",
       "..       ...                                                ...   ...   \n",
       "56     False                   только 21, 22, 23, 24, 25 апреля         \n",
       "57     False            ежедневно с 20.04 по 17.09, кроме 26.04         \n",
       "58     False                         ежедневно с 23.04 по 20.09         \n",
       "59     False  26 апреля, 1, 2, 3, 4, 5, 6, 7, 8, 9, 10, 11, ...         \n",
       "60     False                                 ежедневно по 16.09         \n",
       "\n",
       "                    departure terminal platform  \n",
       "0   2020-04-25T01:35:00+03:00     None           \n",
       "1   2020-04-25T07:15:00+03:00     None           \n",
       "2   2020-04-25T07:25:00+03:00     None           \n",
       "3   2020-04-25T07:40:00+03:00     None           \n",
       "4   2020-04-25T08:05:00+03:00     None           \n",
       "..                        ...      ...      ...  \n",
       "56  2020-04-25T21:30:00+03:00     None           \n",
       "57  2020-04-25T21:55:00+03:00     None           \n",
       "58  2020-04-25T22:50:00+03:00     None           \n",
       "59  2020-04-26T01:00:00+03:00     None           \n",
       "60  2020-04-26T01:35:00+03:00     None           \n",
       "\n",
       "[61 rows x 9 columns]"
      ]
     },
     "execution_count": 7,
     "metadata": {},
     "output_type": "execute_result"
    }
   ],
   "source": [
    "schedule"
   ]
  },
  {
   "cell_type": "code",
   "execution_count": 9,
   "metadata": {},
   "outputs": [],
   "source": [
    "threads=schedule.thread\n",
    "direction={'':0}"
   ]
  },
  {
   "cell_type": "code",
   "execution_count": 10,
   "metadata": {},
   "outputs": [
    {
     "data": {
      "text/plain": [
       "{'uid': 'SU-1512_1_c26_547',\n",
       " 'title': 'Москва — Сургут',\n",
       " 'number': 'SU 1512',\n",
       " 'short_title': 'Москва — Сургут',\n",
       " 'carrier': {'code': 26,\n",
       "  'codes': {'icao': 'AFL', 'sirena': 'СУ', 'iata': 'SU'},\n",
       "  'title': 'Аэрофлот'},\n",
       " 'transport_type': 'plane',\n",
       " 'vehicle': 'Boeing 737-800',\n",
       " 'transport_subtype': {'color': None, 'code': None, 'title': None},\n",
       " 'express_type': None}"
      ]
     },
     "execution_count": 10,
     "metadata": {},
     "output_type": "execute_result"
    }
   ],
   "source": [
    "threads[0]"
   ]
  },
  {
   "cell_type": "code",
   "execution_count": 16,
   "metadata": {},
   "outputs": [],
   "source": [
    "number_Flight=[]"
   ]
  },
  {
   "cell_type": "code",
   "execution_count": 17,
   "metadata": {},
   "outputs": [],
   "source": [
    "for i in range(len(threads)):\n",
    "    number_Flight.append(threads[i].get('number'))"
   ]
  },
  {
   "cell_type": "code",
   "execution_count": 18,
   "metadata": {},
   "outputs": [
    {
     "data": {
      "text/plain": [
       "['SU 1512',\n",
       " 'SU 1320',\n",
       " 'SU 1644',\n",
       " 'SU 1296',\n",
       " 'SU 1052',\n",
       " 'SU 10',\n",
       " 'SU 1500',\n",
       " 'SU 1390',\n",
       " 'SU 1162',\n",
       " 'SU 2550',\n",
       " 'SU 1620',\n",
       " 'SU 1100',\n",
       " 'SU 12',\n",
       " 'SU 1758',\n",
       " 'SU 1002',\n",
       " 'D2 166',\n",
       " 'SU 1116',\n",
       " 'SU 1286',\n",
       " 'SU 1276',\n",
       " 'SU 1402',\n",
       " 'SU 2318',\n",
       " 'SU 1622',\n",
       " 'SU 42',\n",
       " 'AH 3001',\n",
       " 'SU 18',\n",
       " 'SU 1392',\n",
       " 'SU 1310',\n",
       " 'RL 205',\n",
       " 'SU 1628',\n",
       " 'SU 20',\n",
       " 'SU 2582',\n",
       " 'SU 1422',\n",
       " 'SU 1124',\n",
       " 'SU 102',\n",
       " 'SU 1232',\n",
       " 'SU 2694',\n",
       " 'SU 1434',\n",
       " 'SU 1624',\n",
       " 'SU 1058',\n",
       " 'SU 1142',\n",
       " 'SU 22',\n",
       " 'SU 2314',\n",
       " 'D2 168',\n",
       " 'SU 1214',\n",
       " 'SU 1226',\n",
       " 'SU 1010',\n",
       " 'SU 1730',\n",
       " 'SU 1742',\n",
       " 'SU 1710',\n",
       " 'SU 1658',\n",
       " 'RL 601',\n",
       " 'SU 26',\n",
       " 'SU 6289',\n",
       " 'SU 30',\n",
       " 'SU 1702',\n",
       " 'SU 1548',\n",
       " 'SU 1406',\n",
       " 'D2 154',\n",
       " 'SU 1646',\n",
       " 'SU 1382',\n",
       " 'SU 1512']"
      ]
     },
     "execution_count": 18,
     "metadata": {},
     "output_type": "execute_result"
    }
   ],
   "source": [
    "number_Flight"
   ]
  },
  {
   "cell_type": "code",
   "execution_count": 19,
   "metadata": {},
   "outputs": [],
   "source": [
    "del direction['']"
   ]
  },
  {
   "cell_type": "code",
   "execution_count": 177,
   "metadata": {},
   "outputs": [],
   "source": [
    "for i in range(len(threads)):\n",
    "    dirt=threads[i].get('title')\n",
    "    dirt=dirt[9::]\n",
    "    direction[dirt]=0\n",
    "ans=\"Валгаград\"\n",
    "for i in range(len(ans)):\n",
    "    for k, v in direction.items():\n",
    "        if ((i<len(k))and (ans[i]==k[i])):\n",
    "            direction[k]=direction[k]+1\n",
    "direction_list = sorted(direction.items(), key=lambda kv: kv[1])   \n",
    "max_value = max(x[1] for x in direction_list)\n",
    "ans1=[x for x in direction_list if x[1] == max_value]\n",
    "rightAns=ans1[0][0]"
   ]
  },
  {
   "cell_type": "code",
   "execution_count": 178,
   "metadata": {},
   "outputs": [
    {
     "data": {
      "text/plain": [
       "'Москва — Волгоград'"
      ]
     },
     "execution_count": 178,
     "metadata": {},
     "output_type": "execute_result"
    }
   ],
   "source": [
    "rightAns='Москва — '+rightAns\n",
    "flight=[]\n",
    "rightAns"
   ]
  },
  {
   "cell_type": "code",
   "execution_count": 179,
   "metadata": {},
   "outputs": [
    {
     "data": {
      "text/plain": [
       "[13]"
      ]
     },
     "execution_count": 179,
     "metadata": {},
     "output_type": "execute_result"
    }
   ],
   "source": [
    "for i in range(len(threads)):\n",
    "    if (rightAns==threads[i].get('title')):\n",
    "        flight.append(i)\n",
    "    \n",
    "flight"
   ]
  },
  {
   "cell_type": "code",
   "execution_count": null,
   "metadata": {},
   "outputs": [],
   "source": []
  },
  {
   "cell_type": "code",
   "execution_count": 180,
   "metadata": {},
   "outputs": [
    {
     "data": {
      "text/plain": [
       "0     2020-04-25T01:35:00+03:00\n",
       "1     2020-04-25T07:15:00+03:00\n",
       "2     2020-04-25T07:25:00+03:00\n",
       "3     2020-04-25T07:40:00+03:00\n",
       "4     2020-04-25T08:05:00+03:00\n",
       "                ...            \n",
       "56    2020-04-25T21:30:00+03:00\n",
       "57    2020-04-25T21:55:00+03:00\n",
       "58    2020-04-25T22:50:00+03:00\n",
       "59    2020-04-26T01:00:00+03:00\n",
       "60    2020-04-26T01:35:00+03:00\n",
       "Name: departure, Length: 61, dtype: object"
      ]
     },
     "execution_count": 180,
     "metadata": {},
     "output_type": "execute_result"
    }
   ],
   "source": [
    "departure=schedule.departure\n",
    "departure"
   ]
  },
  {
   "cell_type": "code",
   "execution_count": 181,
   "metadata": {},
   "outputs": [],
   "source": [
    "timeP=[]"
   ]
  },
  {
   "cell_type": "code",
   "execution_count": 182,
   "metadata": {},
   "outputs": [
    {
     "data": {
      "text/plain": [
       "['2020-04-25T10:00:00+03:00']"
      ]
     },
     "execution_count": 182,
     "metadata": {},
     "output_type": "execute_result"
    }
   ],
   "source": [
    "for i in flight:\n",
    "    timeP.append(departure[i])\n",
    "timeP"
   ]
  },
  {
   "cell_type": "code",
   "execution_count": 87,
   "metadata": {},
   "outputs": [],
   "source": [
    "max_value = max(x[1] for x in direction_list)\n",
    "ans1=[x for x in direction_list if x[1] == max_value]"
   ]
  },
  {
   "cell_type": "code",
   "execution_count": 84,
   "metadata": {},
   "outputs": [
    {
     "data": {
      "text/plain": [
       "7"
      ]
     },
     "execution_count": 84,
     "metadata": {},
     "output_type": "execute_result"
    }
   ],
   "source": [
    "max_value"
   ]
  },
  {
   "cell_type": "code",
   "execution_count": 90,
   "metadata": {},
   "outputs": [
    {
     "data": {
      "text/plain": [
       "'Волгоград'"
      ]
     },
     "execution_count": 90,
     "metadata": {},
     "output_type": "execute_result"
    }
   ],
   "source": [
    "right=ans1[0][0]"
   ]
  },
  {
   "cell_type": "code",
   "execution_count": 115,
   "metadata": {},
   "outputs": [],
   "source": [
    "month='Апрель'"
   ]
  },
  {
   "cell_type": "code",
   "execution_count": 116,
   "metadata": {},
   "outputs": [],
   "source": [
    "months=['Январь','Февраль','Март','Апрель','Май','Июнь','Июль','Август','Сентябрь''Октябрь','Ноябрь','Декабрь']\n",
    "for i in range(len(months)):\n",
    "    if (month==months[i]):\n",
    "        month=str(i+1)\n",
    "        break\n",
    "if(len(month)==1):\n",
    "    month=\"0\"+month"
   ]
  },
  {
   "cell_type": "code",
   "execution_count": 23,
   "metadata": {},
   "outputs": [],
   "source": [
    "month='4'\n",
    "day='26'\n",
    "port='Шереметьево'\n",
    "direct='Валгаград'"
   ]
  },
  {
   "cell_type": "code",
   "execution_count": 34,
   "metadata": {},
   "outputs": [],
   "source": [
    "if(len(day)==1):\n",
    "    day=\"0\"+day\n",
    "\n",
    "months=['Январь','Февраль','Март','Апрель','Май','Июнь','Июль','Август','Сентябрь''Октябрь','Ноябрь','Декабрь']\n",
    "for i in range(len(months)):\n",
    "    if (month==months[i]):\n",
    "        month=str(i+1)\n",
    "        break\n",
    "if(len(month)==1):\n",
    "    month=\"0\"+month\n",
    "\n",
    "if(len(port)!=3):\n",
    "    ports={'Домодедово':'DME','Шереметьево':'SVO','Внуково':'VKO'}\n",
    "    port=ports[port]\n",
    "\n",
    "link = \"https://api.rasp.yandex.net/v3.0/schedule/?apikey=94b5c4bf-9350-4f45-896d-ad5e244bc10e&system=iata&date=2020-\"+month+\"-\"+day+\"&transport_types=plane&station=\"+port\n",
    "\n",
    "response = requests.get(link) # отправляем запрос на получение кода страницы\n",
    "\n",
    "response.raise_for_status()\n",
    "d = response.json()  # do not create the result file until json is parsed\n",
    "\n",
    "schedule = pd.DataFrame(d['schedule'])\n",
    "\n",
    "departure=schedule.departure\n",
    "terminal=schedule.terminal\n",
    "platform=schedule.platform\n",
    "threads=schedule.thread\n",
    "direction={'':0}\n",
    "\n",
    "for i in range(len(threads)):\n",
    "    dirt=threads[i].get('title')\n",
    "    dirt=dirt[9::]\n",
    "    direction[dirt]=0\n",
    "\n",
    "del direction['']\n",
    "\n",
    "\n",
    "for i in range(len(threads)):\n",
    "    dirt=threads[i].get('title')\n",
    "    dirt=dirt[9::]\n",
    "    direction[dirt]=0\n",
    "ans=direct\n",
    "for i in range(len(ans)):\n",
    "    for k, v in direction.items():\n",
    "        if ((i<len(k))and (ans[i]==k[i])):\n",
    "            direction[k]=direction[k]+1\n",
    "direction_list = sorted(direction.items(), key=lambda kv: kv[1])\n",
    "max_value = max(x[1] for x in direction_list)\n",
    "ans1=[x for x in direction_list if x[1] == max_value]\n",
    "rightAns=ans1[0][0]\n",
    "\n",
    "rightAns='Москва — '+rightAns\n",
    "flight=[]\n",
    "timeP=[]\n",
    "number_Flight=[]\n",
    "term=[]\n",
    "plat=[]\n",
    "mod=[]\n",
    "comp=[]\n",
    "\n",
    "for i in range(len(threads)):\n",
    "    if (rightAns==threads[i].get('title')):\n",
    "        flight.append(i)\n",
    "\n",
    "for i in flight:\n",
    "    timeP.append(departure[i])\n",
    "    number_Flight.append(threads[i].get('number'))\n",
    "    term.append(terminal[i])\n",
    "    plat.append(platform[i])\n",
    "    mod.append(threads[i].get('vehicle'))\n",
    "    comp.append(threads[i].get('carrier').get('title'))\n",
    "    "
   ]
  },
  {
   "cell_type": "code",
   "execution_count": 35,
   "metadata": {},
   "outputs": [
    {
     "data": {
      "text/plain": [
       "['2020-04-26T10:00:00+03:00']"
      ]
     },
     "execution_count": 35,
     "metadata": {},
     "output_type": "execute_result"
    }
   ],
   "source": [
    "timeP"
   ]
  },
  {
   "cell_type": "code",
   "execution_count": 36,
   "metadata": {},
   "outputs": [
    {
     "data": {
      "text/plain": [
       "['SU 1758']"
      ]
     },
     "execution_count": 36,
     "metadata": {},
     "output_type": "execute_result"
    }
   ],
   "source": [
    "number_Flight"
   ]
  },
  {
   "cell_type": "code",
   "execution_count": 37,
   "metadata": {},
   "outputs": [
    {
     "data": {
      "text/plain": [
       "[None]"
      ]
     },
     "execution_count": 37,
     "metadata": {},
     "output_type": "execute_result"
    }
   ],
   "source": [
    "term"
   ]
  },
  {
   "cell_type": "code",
   "execution_count": 38,
   "metadata": {},
   "outputs": [
    {
     "data": {
      "text/plain": [
       "['']"
      ]
     },
     "execution_count": 38,
     "metadata": {},
     "output_type": "execute_result"
    }
   ],
   "source": [
    "plat"
   ]
  },
  {
   "cell_type": "code",
   "execution_count": 39,
   "metadata": {},
   "outputs": [
    {
     "data": {
      "text/plain": [
       "['Boeing 737-800']"
      ]
     },
     "execution_count": 39,
     "metadata": {},
     "output_type": "execute_result"
    }
   ],
   "source": [
    "mod"
   ]
  },
  {
   "cell_type": "code",
   "execution_count": 40,
   "metadata": {},
   "outputs": [
    {
     "data": {
      "text/plain": [
       "['Аэрофлот']"
      ]
     },
     "execution_count": 40,
     "metadata": {},
     "output_type": "execute_result"
    }
   ],
   "source": [
    "comp"
   ]
  },
  {
   "cell_type": "code",
   "execution_count": 41,
   "metadata": {},
   "outputs": [],
   "source": [
    "stri='2020-04-26T10:00:00+03:00'"
   ]
  },
  {
   "cell_type": "code",
   "execution_count": 43,
   "metadata": {},
   "outputs": [
    {
     "data": {
      "text/plain": [
       "'10:00'"
      ]
     },
     "execution_count": 43,
     "metadata": {},
     "output_type": "execute_result"
    }
   ],
   "source": [
    "stri[11:16]"
   ]
  },
  {
   "cell_type": "code",
   "execution_count": null,
   "metadata": {},
   "outputs": [],
   "source": []
  }
 ],
 "metadata": {
  "kernelspec": {
   "display_name": "Python 3",
   "language": "python",
   "name": "python3"
  },
  "language_info": {
   "codemirror_mode": {
    "name": "ipython",
    "version": 3
   },
   "file_extension": ".py",
   "mimetype": "text/x-python",
   "name": "python",
   "nbconvert_exporter": "python",
   "pygments_lexer": "ipython3",
   "version": "3.7.6"
  }
 },
 "nbformat": 4,
 "nbformat_minor": 4
}
