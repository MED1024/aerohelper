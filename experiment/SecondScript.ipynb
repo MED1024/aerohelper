{
 "cells": [
  {
   "cell_type": "code",
   "execution_count": 3,
   "metadata": {},
   "outputs": [],
   "source": [
    "import requests\n",
    "import json\n",
    "import pandas as pd\n",
    "import numpy as np\n",
    "import json"
   ]
  },
  {
   "cell_type": "code",
   "execution_count": 19,
   "metadata": {},
   "outputs": [],
   "source": [
    "userLon=\"37.696912\"\n",
    "userLan=\"55.585866\"\n",
    "userchange=\"in\"\n",
    "classUser=\"Комфорт\"\n",
    "req=\"check,yellowcarnumber\"\n",
    "portTaxi=\"Шереметьево\""
   ]
  },
  {
   "cell_type": "code",
   "execution_count": 23,
   "metadata": {},
   "outputs": [],
   "source": [
    "\n",
    "rll=\"\"\n",
    "classTaxi=\"\"\n",
    "\n",
    "portLon=\"\"\n",
    "portLan=\"\"\n",
    "\n",
    "rllUser=\"\"\n",
    "\n",
    "\n",
    "if portTaxi==\"Домодедово\":\n",
    "    portLon=\"37.897951\"\n",
    "    portLan=\"55.416006\"\n",
    "elif portTaxi==\"Внуково\":\n",
    "    portLon=\"37.2961100\"\n",
    "    portLan=\"55.6119400\"\n",
    "elif portTaxi==\"Шереметьево\":\n",
    "    portLon=\"38.4986800\"\n",
    "    portLan=\"55.0091300\"\n",
    "rll=portLon+\",\"+portLan\n",
    "\n",
    "if classUser=='Эконом':\n",
    "    classTaxi=\"econom\"\n",
    "elif classUser=='Комфорт':\n",
    "    classTaxi=\"business\"\n",
    "elif classUser=='Комфорт+':\n",
    "    classTaxi=\"comfortplus\"\n",
    "elif classUser=='Минивен':\n",
    "    classTaxi=\"minivan\"\n",
    "elif classUser=='Бизнес':\n",
    "    classTaxi=\"vip\"\n",
    "\n",
    "\n",
    "if (rllUser==''):\n",
    "    link=\"https://taxi-routeinfo.taxi.yandex.net/taxi_info?rll=\"+rll+\"&clid=aerohelperbot&apikey=cb4b360f0b884277a7d15fe87ae9cd6e&class=\"+classTaxi+\"&req=\"+req\n",
    "else:\n",
    "    if userchange==\"in\":\n",
    "        link=\"https://taxi-routeinfo.taxi.yandex.net/taxi_info?rll=\"+rllUser+\"~\"+rll+\"&clid=aerohelperbot&apikey=cb4b360f0b884277a7d15fe87ae9cd6e&class=\"+classTaxi+\"&req=\"+req\n",
    "    else:\n",
    "        link=\"https://taxi-routeinfo.taxi.yandex.net/taxi_info?rll=\"+rll+\"~\"+rllUser+\"&clid=aerohelperbot&apikey=cb4b360f0b884277a7d15fe87ae9cd6e&class=\"+classTaxi+\"&req=\"+req\n",
    "\n",
    "response = requests.get(link) # отправляем запрос на получение кода страницы\n",
    "\n",
    "response.raise_for_status()\n",
    "d = response.json()  # do not create the result file until json is parsed\n",
    "\n",
    "options=d['options']\n",
    "if rllUser!='':\n",
    "    distance=d['distance']\n",
    "    waiting_time=str(options[0]['waiting_time'])\n",
    "    time=str(d['time_text'])\n",
    "classCode=str(options[0]['class_level'])\n",
    "price=str(options[0]['price'])\n",
    "\n",
    "\n",
    "\n",
    "                \n",
    "        \n",
    "options=d['options']\n",
    "classCode=str(options[0]['class_level'])\n",
    "\n",
    "if userchange==\"in\":\n",
    "    linkUser=\"https://3.redirect.appmetrica.yandex.com/route?start-lat=\"+userLan+\"&start-lon=\"+userLon+\"&end-lat=\"+portLan+\"&end-lon=\"+portLon+\"&level=\"+classCode+\"&ref=aerohelperbot&appmetrica_tracking_id=1178268795219780156\"\n",
    "else:\n",
    "    linkUser=\"https://3.redirect.appmetrica.yandex.com/route?start-lat=\"+portLan+\"&start-lon=\"+portLon+\"&end-lat=\"+userLan+\"&end-lon=\"+userLon+\"&level=\"+classCode+\"&ref=aerohelperbot&appmetrica_tracking_id=1178268795219780156\"\n",
    "        \n"
   ]
  },
  {
   "cell_type": "code",
   "execution_count": 5,
   "metadata": {},
   "outputs": [
    {
     "data": {
      "text/plain": [
       "'https://taxi-routeinfo.taxi.yandex.net/taxi_info?rll=37.696912,55.585866~38.4986800,55.0091300&clid=aerohelperbot&apikey=cb4b360f0b884277a7d15fe87ae9cd6e&class=business&req=check,yellowcarnumber'"
      ]
     },
     "execution_count": 5,
     "metadata": {},
     "output_type": "execute_result"
    }
   ],
   "source": [
    "link"
   ]
  },
  {
   "cell_type": "code",
   "execution_count": 2,
   "metadata": {},
   "outputs": [
    {
     "ename": "NameError",
     "evalue": "name 'requests' is not defined",
     "output_type": "error",
     "traceback": [
      "\u001b[1;31m---------------------------------------------------------------------------\u001b[0m",
      "\u001b[1;31mNameError\u001b[0m                                 Traceback (most recent call last)",
      "\u001b[1;32m<ipython-input-2-ea7d1b047095>\u001b[0m in \u001b[0;36m<module>\u001b[1;34m\u001b[0m\n\u001b[0;32m      1\u001b[0m \u001b[1;31m#link=\"https://taxi-routeinfo.taxi.yandex.net/taxi_info?rll=37.589569560,55.733780&clid=aerohelperbot&apikey=cb4b360f0b884277a7d15fe87ae9cd6e&class=econom,vip&req=check,yellowcarnumber\"\u001b[0m\u001b[1;33m\u001b[0m\u001b[1;33m\u001b[0m\u001b[1;33m\u001b[0m\u001b[0m\n\u001b[1;32m----> 2\u001b[1;33m \u001b[0mresponse\u001b[0m \u001b[1;33m=\u001b[0m \u001b[0mrequests\u001b[0m\u001b[1;33m.\u001b[0m\u001b[0mget\u001b[0m\u001b[1;33m(\u001b[0m\u001b[0mlink\u001b[0m\u001b[1;33m)\u001b[0m \u001b[1;31m# отправляем запрос на получение кода страницы\u001b[0m\u001b[1;33m\u001b[0m\u001b[1;33m\u001b[0m\u001b[0m\n\u001b[0m\u001b[0;32m      3\u001b[0m \u001b[1;33m\u001b[0m\u001b[0m\n\u001b[0;32m      4\u001b[0m \u001b[0mresponse\u001b[0m\u001b[1;33m.\u001b[0m\u001b[0mraise_for_status\u001b[0m\u001b[1;33m(\u001b[0m\u001b[1;33m)\u001b[0m\u001b[1;33m\u001b[0m\u001b[1;33m\u001b[0m\u001b[0m\n\u001b[0;32m      5\u001b[0m \u001b[0md\u001b[0m \u001b[1;33m=\u001b[0m \u001b[0mresponse\u001b[0m\u001b[1;33m.\u001b[0m\u001b[0mjson\u001b[0m\u001b[1;33m(\u001b[0m\u001b[1;33m)\u001b[0m  \u001b[1;31m# do not create the result file until json is parsed\u001b[0m\u001b[1;33m\u001b[0m\u001b[1;33m\u001b[0m\u001b[0m\n",
      "\u001b[1;31mNameError\u001b[0m: name 'requests' is not defined"
     ]
    }
   ],
   "source": [
    "\n",
    "#link=\"https://taxi-routeinfo.taxi.yandex.net/taxi_info?rll=37.589569560,55.733780&clid=aerohelperbot&apikey=cb4b360f0b884277a7d15fe87ae9cd6e&class=econom,vip&req=check,yellowcarnumber\"\n",
    "response = requests.get(link) # отправляем запрос на получение кода страницы\n",
    "\n",
    "response.raise_for_status()\n",
    "d = response.json()  # do not create the result file until json is parsed\n",
    "\n",
    "#На случай "
   ]
  },
  {
   "cell_type": "code",
   "execution_count": 6,
   "metadata": {},
   "outputs": [
    {
     "data": {
      "text/plain": [
       "{'currency': 'RUB',\n",
       " 'distance': 135299.3853445053,\n",
       " 'options': [{'class_level': 70,\n",
       "   'class_name': 'business',\n",
       "   'class_text': 'Комфорт',\n",
       "   'min_price': 199.0,\n",
       "   'price': 5001.0,\n",
       "   'price_text': '~5001\\u2006руб.',\n",
       "   'waiting_time': 330.0}],\n",
       " 'time': 6666.518497416282,\n",
       " 'time_text': '2 ч'}"
      ]
     },
     "execution_count": 6,
     "metadata": {},
     "output_type": "execute_result"
    }
   ],
   "source": [
    "#d = requests.get(link).json()  # do not create the result file until json is parsed\n",
    "d"
   ]
  },
  {
   "cell_type": "code",
   "execution_count": 11,
   "metadata": {},
   "outputs": [
    {
     "data": {
      "text/plain": [
       "'70'"
      ]
     },
     "execution_count": 11,
     "metadata": {},
     "output_type": "execute_result"
    }
   ],
   "source": [
    "options=d['options']\n",
    "distance=d['distance']\n",
    "classCode=str(options[0]['class_level'])\n",
    "price=str(options[0]['price'])\n",
    "waiting_time=str(options[0]['waiting_time'])\n",
    "time=str(d['time_text'])\n",
    "classCode"
   ]
  },
  {
   "cell_type": "code",
   "execution_count": 27,
   "metadata": {},
   "outputs": [
    {
     "data": {
      "text/plain": [
       "135"
      ]
     },
     "execution_count": 27,
     "metadata": {},
     "output_type": "execute_result"
    }
   ],
   "source": [
    "int(distance/1000)"
   ]
  },
  {
   "cell_type": "code",
   "execution_count": null,
   "metadata": {},
   "outputs": [],
   "source": [
    "dist=\"135.2993853445053\""
   ]
  },
  {
   "cell_type": "code",
   "execution_count": null,
   "metadata": {},
   "outputs": [],
   "source": [
    "for i in range(len(dist)):\n",
    "    if ()"
   ]
  },
  {
   "cell_type": "code",
   "execution_count": 12,
   "metadata": {},
   "outputs": [
    {
     "data": {
      "text/plain": [
       "'5001.0'"
      ]
     },
     "execution_count": 12,
     "metadata": {},
     "output_type": "execute_result"
    }
   ],
   "source": [
    "price"
   ]
  },
  {
   "cell_type": "code",
   "execution_count": 13,
   "metadata": {},
   "outputs": [
    {
     "data": {
      "text/plain": [
       "'330.0'"
      ]
     },
     "execution_count": 13,
     "metadata": {},
     "output_type": "execute_result"
    }
   ],
   "source": [
    "waiting_time"
   ]
  },
  {
   "cell_type": "code",
   "execution_count": 14,
   "metadata": {},
   "outputs": [
    {
     "data": {
      "text/plain": [
       "'2 ч'"
      ]
     },
     "execution_count": 14,
     "metadata": {},
     "output_type": "execute_result"
    }
   ],
   "source": [
    "time"
   ]
  },
  {
   "cell_type": "code",
   "execution_count": 89,
   "metadata": {},
   "outputs": [],
   "source": [
    "\n",
    "if userchange==\"in\":\n",
    "    linkUser=\"https://3.redirect.appmetrica.yandex.com/route?start-lat=\"+userLan+\"&start-lon=\"+userLon+\"&end-lat=\"+portLan+\"&end-lon=\"+portLon+\"&level=\"+classCode+\"&ref=aerohelperbot&appmetrica_tracking_id=1178268795219780156\"\n",
    "else:\n",
    "    linkUser=\"https://3.redirect.appmetrica.yandex.com/route?start-lat=\"+portLan+\"&start-lon=\"+portLon+\"&end-lat=\"+userLan+\"&end-lon=\"+userLon+\"&level=\"+classCode+\"&ref=aerohelperbot&appmetrica_tracking_id=1178268795219780156\""
   ]
  },
  {
   "cell_type": "code",
   "execution_count": 90,
   "metadata": {},
   "outputs": [
    {
     "data": {
      "text/plain": [
       "'https://3.redirect.appmetrica.yandex.com/route?start-lat=55.585866&start-lon=37.696912&end-lat=55.0091300&end-lon=38.4986800&level=70&ref=aerohelperbot&appmetrica_tracking_id=1178268795219780156'"
      ]
     },
     "execution_count": 90,
     "metadata": {},
     "output_type": "execute_result"
    }
   ],
   "source": [
    "linkUser"
   ]
  },
  {
   "cell_type": "code",
   "execution_count": null,
   "metadata": {},
   "outputs": [],
   "source": []
  }
 ],
 "metadata": {
  "kernelspec": {
   "display_name": "Python 3",
   "language": "python",
   "name": "python3"
  },
  "language_info": {
   "codemirror_mode": {
    "name": "ipython",
    "version": 3
   },
   "file_extension": ".py",
   "mimetype": "text/x-python",
   "name": "python",
   "nbconvert_exporter": "python",
   "pygments_lexer": "ipython3",
   "version": "3.7.6"
  }
 },
 "nbformat": 4,
 "nbformat_minor": 4
}
