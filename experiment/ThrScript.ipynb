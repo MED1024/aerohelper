{
 "cells": [
  {
   "cell_type": "code",
   "execution_count": 1,
   "metadata": {},
   "outputs": [],
   "source": [
    "import requests\n",
    "import json\n",
    "import pandas as pd\n",
    "import numpy as np\n",
    "import json"
   ]
  },
  {
   "cell_type": "code",
   "execution_count": 4,
   "metadata": {},
   "outputs": [],
   "source": [
    "jsm=\"\"\"{\n",
    "    \"signature\": \"0fdbb26158c2636d905614cc42cbd428\",\n",
    "    \"marker\": \"282307\",\n",
    "    \"host\": \"https://t.me/aerohelperbot\",\n",
    "    \"user_ip\": \"185.49.108.253\",\n",
    "    \"locale\": \"ru\",\n",
    "    \"trip_class\": \"Y\",\n",
    "    \"passengers\": {\n",
    "        \"adults\": 1,\n",
    "        \"children\": 0,\n",
    "        \"infants\": 0\n",
    "    },\n",
    "    \"segments\": [\n",
    "        {\n",
    "            \"origin\": \"NYC\",\n",
    "            \"destination\": \"LAX\",\n",
    "            \"date\": \"2017-11-25\"\n",
    "        },\n",
    "        {\n",
    "            \"origin\": \"LAX\",\n",
    "            \"destination\": \"NYC\",\n",
    "            \"date\": \"2017-12-18\"\n",
    "        }\n",
    "    ]\n",
    "}\n",
    "\n",
    "\n",
    "\"\"\""
   ]
  },
  {
   "cell_type": "code",
   "execution_count": 6,
   "metadata": {},
   "outputs": [],
   "source": [
    "link=\"http://api.travelpayouts.com/v1/flight_search\"\n",
    "response = requests.post(link,json=jsm) # отправляем запрос на получение кода страницы\n",
    "\n",
    "#response.raise_for_status()\n",
    "d = response.json()  # do not create the result file until json is parsed\n"
   ]
  },
  {
   "cell_type": "code",
   "execution_count": 7,
   "metadata": {},
   "outputs": [
    {
     "data": {
      "text/plain": [
       "{'error': 'error while doing request transform: failed to parse request body: json: cannot unmarshal string into Go value of type gateway_types.searchRequestJSON'}"
      ]
     },
     "execution_count": 7,
     "metadata": {},
     "output_type": "execute_result"
    }
   ],
   "source": []
  },
  {
   "cell_type": "code",
   "execution_count": null,
   "metadata": {},
   "outputs": [],
   "source": []
  }
 ],
 "metadata": {
  "kernelspec": {
   "display_name": "Python 3",
   "language": "python",
   "name": "python3"
  },
  "language_info": {
   "codemirror_mode": {
    "name": "ipython",
    "version": 3
   },
   "file_extension": ".py",
   "mimetype": "text/x-python",
   "name": "python",
   "nbconvert_exporter": "python",
   "pygments_lexer": "ipython3",
   "version": "3.7.6"
  }
 },
 "nbformat": 4,
 "nbformat_minor": 4
}
